{
 "cells": [
  {
   "cell_type": "code",
   "execution_count": 2,
   "metadata": {},
   "outputs": [],
   "source": [
    "import torch\n",
    "import torch.nn as nn\n",
    "import torch.nn.functional as F\n",
    "from torch.optim import Adam\n",
    "\n",
    "import lightning as L\n",
    "from torch.utils.data import TensorDataset, DataLoader\n",
    "\n",
    "import numpy as np\n",
    "import matplotlib.pyplot as plt"
   ]
  },
  {
   "cell_type": "code",
   "execution_count": 3,
   "metadata": {},
   "outputs": [],
   "source": [
    "o_image = [\n",
    "    [0, 0, 1, 1, 0, 0],\n",
    "    [0, 1, 0, 0, 1, 0],\n",
    "    [1, 0, 0, 0, 0, 1],\n",
    "    [1, 0, 0, 0, 0, 1],\n",
    "    [0, 1, 0, 0, 1, 0],\n",
    "    [0, 0, 1, 1, 0, 0]\n",
    "]\n",
    "\n",
    "x_image = [\n",
    "    [1, 0, 0, 0, 0, 1],\n",
    "    [0, 1, 0, 0, 1, 0],\n",
    "    [0, 0, 1, 1, 0, 0],\n",
    "    [0, 0, 1, 1, 0, 0],\n",
    "    [0, 1, 0, 0, 1, 0],\n",
    "    [1, 0, 0, 0, 0, 1]\n",
    "]"
   ]
  },
  {
   "cell_type": "code",
   "execution_count": 6,
   "metadata": {},
   "outputs": [
    {
     "data": {
      "image/png": "[encoded data removed]",
      "text/plain": [
       "<Figure size 500x500 with 2 Axes>"
      ]
     },
     "metadata": {},
     "output_type": "display_data"
    }
   ],
   "source": [
    "fig, axarr = plt.subplots(nrows=1, ncols=2, figsize=(5, 5))\n",
    "axarr[0].imshow(o_image, cmap='gray_r')\n",
    "axarr[1].imshow(x_image, cmap='gray_r')\n",
    "plt.show()"
   ]
  },
  {
   "cell_type": "code",
   "execution_count": 10,
   "metadata": {},
   "outputs": [],
   "source": [
    "#converting the images to tensors\n",
    "input_images = torch.tensor([o_image, x_image], dtype=torch.float32)"
   ]
  },
  {
   "cell_type": "code",
   "execution_count": 11,
   "metadata": {},
   "outputs": [],
   "source": [
    "#creating the labels\n",
    "input_labels = torch.tensor([[1.0, 0.0], [0.0, 1.0]], dtype=torch.float32)"
   ]
  },
  {
   "cell_type": "code",
   "execution_count": 12,
   "metadata": {},
   "outputs": [],
   "source": [
    "dataset = TensorDataset(input_images, input_labels)\n",
    "dataloader = DataLoader(dataset)"
   ]
  },
  {
   "cell_type": "code",
   "execution_count": 13,
   "metadata": {},
   "outputs": [
    {
     "name": "stdout",
     "output_type": "stream",
     "text": [
      "Batch number: 0\n",
      "Images: tensor([[[0., 0., 1., 1., 0., 0.],\n",
      "         [0., 1., 0., 0., 1., 0.],\n",
      "         [1., 0., 0., 0., 0., 1.],\n",
      "         [1., 0., 0., 0., 0., 1.],\n",
      "         [0., 1., 0., 0., 1., 0.],\n",
      "         [0., 0., 1., 1., 0., 0.]]])\n",
      "Labels: tensor([[1., 0.]])\n",
      "\n",
      "Batch number: 1\n",
      "Images: tensor([[[1., 0., 0., 0., 0., 1.],\n",
      "         [0., 1., 0., 0., 1., 0.],\n",
      "         [0., 0., 1., 1., 0., 0.],\n",
      "         [0., 0., 1., 1., 0., 0.],\n",
      "         [0., 1., 0., 0., 1., 0.],\n",
      "         [1., 0., 0., 0., 0., 1.]]])\n",
      "Labels: tensor([[0., 1.]])\n",
      "\n"
     ]
    }
   ],
   "source": [
    "for batch_num, (images, labels) in enumerate(dataloader):\n",
    "    print(f'Batch number: {batch_num}')\n",
    "    print(f'Images: {images}')\n",
    "    print(f'Labels: {labels}')\n",
    "    print()"
   ]
  },
  {
   "cell_type": "code",
   "execution_count": 17,
   "metadata": {},
   "outputs": [],
   "source": [
    "######### Defining the model #########\n",
    "\n",
    "class SimpleCNN(L.LightningModule):\n",
    "    def __init__(self):\n",
    "        super().__init__()\n",
    "\n",
    "        L.seed_everything(seed=42)\n",
    "\n",
    "        self.conv = nn.Conv2d(in_channels=1, out_channels=1, kernel_size=3)\n",
    "\n",
    "        self.pool = nn.MaxPool2d(kernel_size=2, stride=2)\n",
    "\n",
    "        self.input_to_hidden = nn.Linear(in_features= 4, out_features=1)\n",
    "\n",
    "        self.hidden_to_output = nn.Linear(in_features=1, out_features=2)\n",
    "\n",
    "        self.loss = nn.CrossEntropyLoss()\n",
    "\n",
    "    def forward(self, x):\n",
    "\n",
    "        x = self.conv(x)\n",
    "        x = F.relu(x)\n",
    "        x = self.pool(x)\n",
    "\n",
    "        x = torch.flatten(x, 1)\n",
    "\n",
    "        x = self.input_to_hidden(x)\n",
    "        x = F.relu(x)\n",
    "        x = self.hidden_to_output(x)\n",
    "\n",
    "        return x\n",
    "    \n",
    "    def configure_optimizers(self):\n",
    "        return Adam(self.parameters(), lr=0.001)\n",
    "    \n",
    "    def training_step(self, batch, batch_idx):\n",
    "        inputs, labels = batch\n",
    "        outputs = self.forward(inputs)\n",
    "        loss = self.loss(outputs, labels)\n",
    "        return loss"
   ]
  },
  {
   "cell_type": "code",
   "execution_count": 19,
   "metadata": {},
   "outputs": [
    {
     "name": "stderr",
     "output_type": "stream",
     "text": [
      "Seed set to 42\n"
     ]
    }
   ],
   "source": [
    "model = SimpleCNN()"
   ]
  },
  {
   "cell_type": "code",
   "execution_count": 20,
   "metadata": {},
   "outputs": [
    {
     "name": "stderr",
     "output_type": "stream",
     "text": [
      "GPU available: True (cuda), used: True\n",
      "TPU available: False, using: 0 TPU cores\n",
      "HPU available: False, using: 0 HPUs\n",
      "Missing logger folder: d:\\MachineLearningAlgorithms\\SimpleCNN\\lightning_logs\n",
      "LOCAL_RANK: 0 - CUDA_VISIBLE_DEVICES: [0]\n",
      "\n",
      "  | Name             | Type             | Params | Mode \n",
      "--------------------------------------------------------------\n",
      "0 | conv             | Conv2d           | 10     | train\n",
      "1 | pool             | MaxPool2d        | 0      | train\n",
      "2 | input_to_hidden  | Linear           | 5      | train\n",
      "3 | hidden_to_output | Linear           | 4      | train\n",
      "4 | loss             | CrossEntropyLoss | 0      | train\n",
      "--------------------------------------------------------------\n",
      "19        Trainable params\n",
      "0         Non-trainable params\n",
      "19        Total params\n",
      "0.000     Total estimated model params size (MB)\n",
      "c:\\Users\\msi\\AppData\\Local\\Programs\\Python\\Python312\\Lib\\site-packages\\lightning\\pytorch\\trainer\\connectors\\data_connector.py:424: The 'train_dataloader' does not have many workers which may be a bottleneck. Consider increasing the value of the `num_workers` argument` to `num_workers=11` in the `DataLoader` to improve performance.\n",
      "c:\\Users\\msi\\AppData\\Local\\Programs\\Python\\Python312\\Lib\\site-packages\\lightning\\pytorch\\loops\\fit_loop.py:298: The number of training batches (2) is smaller than the logging interval Trainer(log_every_n_steps=50). Set a lower value for log_every_n_steps if you want to see logs for the training epoch.\n"
     ]
    },
    {
     "data": {
      "application/vnd.jupyter.widget-view+json": {
       "model_id": "776c58366eda4daa8ca9528c279675d1",
       "version_major": 2,
       "version_minor": 0
      },
      "text/plain": [
       "Training: |          | 0/? [00:00<?, ?it/s]"
      ]
     },
     "metadata": {},
     "output_type": "display_data"
    },
    {
     "name": "stderr",
     "output_type": "stream",
     "text": [
      "`Trainer.fit` stopped: `max_epochs=100` reached.\n"
     ]
    }
   ],
   "source": [
    "trainer = L.Trainer(max_epochs=100)\n",
    "trainer.fit(model, train_dataloaders=dataloader)"
   ]
  },
  {
   "cell_type": "code",
   "execution_count": 21,
   "metadata": {},
   "outputs": [
    {
     "name": "stdout",
     "output_type": "stream",
     "text": [
      "predicted_label:  tensor([[0.5200, 0.4800]], grad_fn=<RoundBackward1>)\n",
      "actual_label:  tensor([[1., 0.]])\n",
      "\n",
      "predicted_label:  tensor([[0.4200, 0.5800]], grad_fn=<RoundBackward1>)\n",
      "actual_label:  tensor([[0., 1.]])\n",
      "\n"
     ]
    }
   ],
   "source": [
    "for batch_num, (image, label) in enumerate(dataloader):\n",
    "    prediction = model(image)\n",
    "\n",
    "    predicted_label = torch.round(\n",
    "        torch.softmax(prediction, dim=1),\n",
    "        decimals=2\n",
    "    )\n",
    "\n",
    "    print(\"predicted_label: \", predicted_label)\n",
    "    print(\"actual_label: \", label)\n",
    "    print()"
   ]
  },
  {
   "cell_type": "code",
   "execution_count": 22,
   "metadata": {},
   "outputs": [],
   "source": [
    "path_to_checkpoint = trainer.checkpoint_callback.best_model_path"
   ]
  },
  {
   "cell_type": "code",
   "execution_count": 23,
   "metadata": {},
   "outputs": [
    {
     "name": "stderr",
     "output_type": "stream",
     "text": [
      "GPU available: True (cuda), used: True\n",
      "TPU available: False, using: 0 TPU cores\n",
      "HPU available: False, using: 0 HPUs\n",
      "Restoring states from the checkpoint path at d:\\MachineLearningAlgorithms\\SimpleCNN\\lightning_logs\\version_0\\checkpoints\\epoch=99-step=200.ckpt\n",
      "c:\\Users\\msi\\AppData\\Local\\Programs\\Python\\Python312\\Lib\\site-packages\\lightning\\pytorch\\callbacks\\model_checkpoint.py:360: The dirpath has changed from 'd:\\\\MachineLearningAlgorithms\\\\SimpleCNN\\\\lightning_logs\\\\version_0\\\\checkpoints' to 'd:\\\\MachineLearningAlgorithms\\\\SimpleCNN\\\\lightning_logs\\\\version_1\\\\checkpoints', therefore `best_model_score`, `kth_best_model_path`, `kth_value`, `last_model_path` and `best_k_models` won't be reloaded. Only `best_model_path` will be reloaded.\n",
      "LOCAL_RANK: 0 - CUDA_VISIBLE_DEVICES: [0]\n",
      "\n",
      "  | Name             | Type             | Params | Mode \n",
      "--------------------------------------------------------------\n",
      "0 | conv             | Conv2d           | 10     | train\n",
      "1 | pool             | MaxPool2d        | 0      | train\n",
      "2 | input_to_hidden  | Linear           | 5      | train\n",
      "3 | hidden_to_output | Linear           | 4      | train\n",
      "4 | loss             | CrossEntropyLoss | 0      | train\n",
      "--------------------------------------------------------------\n",
      "19        Trainable params\n",
      "0         Non-trainable params\n",
      "19        Total params\n",
      "0.000     Total estimated model params size (MB)\n",
      "Restored all states from the checkpoint at d:\\MachineLearningAlgorithms\\SimpleCNN\\lightning_logs\\version_0\\checkpoints\\epoch=99-step=200.ckpt\n",
      "c:\\Users\\msi\\AppData\\Local\\Programs\\Python\\Python312\\Lib\\site-packages\\lightning\\pytorch\\trainer\\connectors\\data_connector.py:424: The 'train_dataloader' does not have many workers which may be a bottleneck. Consider increasing the value of the `num_workers` argument` to `num_workers=11` in the `DataLoader` to improve performance.\n",
      "c:\\Users\\msi\\AppData\\Local\\Programs\\Python\\Python312\\Lib\\site-packages\\lightning\\pytorch\\loops\\fit_loop.py:298: The number of training batches (2) is smaller than the logging interval Trainer(log_every_n_steps=50). Set a lower value for log_every_n_steps if you want to see logs for the training epoch.\n"
     ]
    },
    {
     "data": {
      "application/vnd.jupyter.widget-view+json": {
       "model_id": "c3cd0ed02349404eb23be555ed3bb78a",
       "version_major": 2,
       "version_minor": 0
      },
      "text/plain": [
       "Training: |          | 0/? [00:00<?, ?it/s]"
      ]
     },
     "metadata": {},
     "output_type": "display_data"
    },
    {
     "name": "stderr",
     "output_type": "stream",
     "text": [
      "`Trainer.fit` stopped: `max_epochs=700` reached.\n"
     ]
    }
   ],
   "source": [
    "trainer = L.Trainer(max_epochs=700)\n",
    "trainer.fit(model, train_dataloaders=dataloader, ckpt_path=path_to_checkpoint)"
   ]
  },
  {
   "cell_type": "code",
   "execution_count": 24,
   "metadata": {},
   "outputs": [
    {
     "name": "stdout",
     "output_type": "stream",
     "text": [
      "predicted_label:  tensor([[0.7900, 0.2100]], grad_fn=<RoundBackward1>)\n",
      "actual_label:  tensor([[1., 0.]])\n",
      "\n",
      "predicted_label:  tensor([[0.0100, 0.9900]], grad_fn=<RoundBackward1>)\n",
      "actual_label:  tensor([[0., 1.]])\n",
      "\n"
     ]
    }
   ],
   "source": [
    "for batch_num, (image, label) in enumerate(dataloader):\n",
    "    prediction = model(image)\n",
    "\n",
    "    predicted_label = torch.round(\n",
    "        torch.softmax(prediction, dim=1),\n",
    "        decimals=2\n",
    "    )\n",
    "\n",
    "    print(\"predicted_label: \", predicted_label)\n",
    "    print(\"actual_label: \", label)\n",
    "    print()"
   ]
  },
  {
   "cell_type": "code",
   "execution_count": 26,
   "metadata": {},
   "outputs": [
    {
     "data": {
      "image/png": "[encoded data removed]",
      "text/plain": [
       "<Figure size 500x500 with 1 Axes>"
      ]
     },
     "metadata": {},
     "output_type": "display_data"
    }
   ],
   "source": [
    "########### make predictions ###########\n",
    "shfited_o_image = [\n",
    "    [0, 0, 0, 1, 1, 0],\n",
    "    [0, 0, 1, 0, 0, 1],\n",
    "    [0, 1, 0, 0, 0, 0],\n",
    "    [0, 1, 0, 0, 0, 0],\n",
    "    [0, 0, 1, 0, 0, 1],\n",
    "    [0, 0, 0, 1, 1, 0]\n",
    "]\n",
    "\n",
    "fig, axarr = plt.subplots(nrows=1, ncols=1, figsize=(5, 5))\n",
    "axarr.imshow(shfited_o_image, cmap='gray_r')\n",
    "plt.show()"
   ]
  },
  {
   "cell_type": "code",
   "execution_count": 32,
   "metadata": {},
   "outputs": [
    {
     "name": "stdout",
     "output_type": "stream",
     "text": [
      "predicted_label:  tensor([[0.4400, 0.5600]], grad_fn=<RoundBackward1>)\n",
      "It's an X\n"
     ]
    }
   ],
   "source": [
    "prediction = model(torch.tensor([shfited_o_image], dtype=torch.float32))\n",
    "predicted_label = torch.round(\n",
    "    torch.softmax(prediction, dim=1),\n",
    "    decimals=2\n",
    ")\n",
    "\n",
    "print(\"predicted_label: \", predicted_label)\n",
    "\n",
    "if predicted_label[0][0] > predicted_label[0][1]:\n",
    "    print(\"It's an O\")\n",
    "else:\n",
    "    print(\"It's an X\")"
   ]
  },
  {
   "cell_type": "code",
   "execution_count": 30,
   "metadata": {},
   "outputs": [
    {
     "data": {
      "image/png": "[encoded data removed]",
      "text/plain": [
       "<Figure size 500x500 with 1 Axes>"
      ]
     },
     "metadata": {},
     "output_type": "display_data"
    }
   ],
   "source": [
    "shfited_x_image = [\n",
    "    [0, 1, 0, 0, 0, 0],\n",
    "    [0, 0, 1, 0, 0, 1],\n",
    "    [0, 0, 0, 1, 1, 0],\n",
    "    [0, 0, 0, 1, 1, 0],\n",
    "    [0, 0, 1, 0, 0, 1],\n",
    "    [0, 1, 0, 0, 0, 0]\n",
    "]\n",
    "\n",
    "fig, axarr = plt.subplots(nrows=1, ncols=1, figsize=(5, 5))\n",
    "axarr.imshow(shfited_x_image, cmap='gray_r')\n",
    "plt.show()"
   ]
  },
  {
   "cell_type": "code",
   "execution_count": 33,
   "metadata": {},
   "outputs": [
    {
     "name": "stdout",
     "output_type": "stream",
     "text": [
      "predicted_label:  tensor([[0.1200, 0.8800]], grad_fn=<RoundBackward1>)\n",
      "It's an X\n"
     ]
    }
   ],
   "source": [
    "prediction = model(torch.tensor([shfited_x_image], dtype=torch.float32))\n",
    "predicted_label = torch.round(\n",
    "    torch.softmax(prediction, dim=1),\n",
    "    decimals=2\n",
    ")\n",
    "\n",
    "print(\"predicted_label: \", predicted_label)\n",
    "\n",
    "if predicted_label[0][0] > predicted_label[0][1]:\n",
    "    print(\"It's an O\")\n",
    "else:\n",
    "    print(\"It's an X\")"
   ]
  }
 ],
 "metadata": {
  "kernelspec": {
   "display_name": "Python 3",
   "language": "python",
   "name": "python3"
  },
  "language_info": {
   "codemirror_mode": {
    "name": "ipython",
    "version": 3
   },
   "file_extension": ".py",
   "mimetype": "text/x-python",
   "name": "python",
   "nbconvert_exporter": "python",
   "pygments_lexer": "ipython3",
   "version": "3.12.2"
  }
 },
 "nbformat": 4,
 "nbformat_minor": 2
}
