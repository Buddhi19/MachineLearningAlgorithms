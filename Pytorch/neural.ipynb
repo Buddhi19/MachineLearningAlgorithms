{
 "cells": [
  {
   "cell_type": "code",
   "execution_count": 3,
   "metadata": {},
   "outputs": [],
   "source": [
    "import torch\n",
    "import torch.nn as nn\n",
    "import torch.optim as optim\n",
    "import torch.nn.functional as F\n",
    "from torch.utils.data import DataLoader\n",
    "import torchvision.datasets as datasets\n",
    "import torchvision.transforms as transforms"
   ]
  },
  {
   "cell_type": "markdown",
   "metadata": {},
   "source": [
    "## Fully connected Network"
   ]
  },
  {
   "cell_type": "code",
   "execution_count": 4,
   "metadata": {},
   "outputs": [
    {
     "name": "stdout",
     "output_type": "stream",
     "text": [
      "torch.Size([64, 10])\n"
     ]
    }
   ],
   "source": [
    "class NN(nn.Module):\n",
    "    def __init__(self,input_size,num_classes):\n",
    "        super(NN,self).__init__()\n",
    "        self.fc1=nn.Linear(input_size,50)\n",
    "        self.fc2=nn.Linear(50,num_classes)\n",
    "\n",
    "    def forward(self,x):\n",
    "        x=F.relu(self.fc1(x))\n",
    "        x=self.fc2(x)\n",
    "        return x\n",
    "    \n",
    "model=NN(784,10)\n",
    "\n",
    "x=torch.rand(64,784)\n",
    "\n",
    "print(model(x).shape)"
   ]
  },
  {
   "cell_type": "markdown",
   "metadata": {},
   "source": [
    "## Set Device"
   ]
  },
  {
   "cell_type": "code",
   "execution_count": 5,
   "metadata": {},
   "outputs": [],
   "source": [
    "device=torch.device(\"cuda\" if torch.cuda.is_available() else \"cpu\")\n"
   ]
  },
  {
   "cell_type": "code",
   "execution_count": 10,
   "metadata": {},
   "outputs": [],
   "source": [
    "input_size=784\n",
    "num_classes=10\n",
    "learning_rate=0.001\n",
    "batch_size=64\n",
    "num_epachs=1\n",
    "\n",
    "train_dataset=datasets.MNIST(root=\"dataset/\",train=True,transform=transforms.ToTensor())\n",
    "train_loader=DataLoader(dataset=train_dataset,batch_size=batch_size,shuffle=True)\n",
    "\n",
    "test_dataset=datasets.MNIST(root=\"dataset/\",train=False,transform=transforms.ToTensor())\n",
    "test_loader=DataLoader(dataset=test_dataset,batch_size=batch_size,shuffle=True)"
   ]
  },
  {
   "cell_type": "code",
   "execution_count": 11,
   "metadata": {},
   "outputs": [],
   "source": [
    "model=NN(input_size=input_size,num_classes=num_classes).to(device)\n",
    "\n",
    "criterion=nn.CrossEntropyLoss()\n",
    "optimiser=optim.Adam(model.parameters(),lr=learning_rate)"
   ]
  },
  {
   "cell_type": "markdown",
   "metadata": {},
   "source": [
    "## Training"
   ]
  },
  {
   "cell_type": "code",
   "execution_count": 14,
   "metadata": {},
   "outputs": [
    {
     "ename": "AttributeError",
     "evalue": "module 'torch' has no attribute 'loss'",
     "output_type": "error",
     "traceback": [
      "\u001b[1;31m---------------------------------------------------------------------------\u001b[0m",
      "\u001b[1;31mAttributeError\u001b[0m                            Traceback (most recent call last)",
      "\u001b[1;32md:\\MachineLearningAlgorithms\\Pytorch\\neural.ipynb Cell 9\u001b[0m in \u001b[0;36m<cell line: 1>\u001b[1;34m()\u001b[0m\n\u001b[0;32m      <a href='vscode-notebook-cell:/d%3A/MachineLearningAlgorithms/Pytorch/neural.ipynb#X10sZmlsZQ%3D%3D?line=8'>9</a>\u001b[0m los\u001b[39m=\u001b[39mcriterion(scores,targets)\n\u001b[0;32m     <a href='vscode-notebook-cell:/d%3A/MachineLearningAlgorithms/Pytorch/neural.ipynb#X10sZmlsZQ%3D%3D?line=10'>11</a>\u001b[0m optimiser\u001b[39m.\u001b[39mzero_grad()\n\u001b[1;32m---> <a href='vscode-notebook-cell:/d%3A/MachineLearningAlgorithms/Pytorch/neural.ipynb#X10sZmlsZQ%3D%3D?line=11'>12</a>\u001b[0m torch\u001b[39m.\u001b[39;49mloss\u001b[39m.\u001b[39mbackward()\n\u001b[0;32m     <a href='vscode-notebook-cell:/d%3A/MachineLearningAlgorithms/Pytorch/neural.ipynb#X10sZmlsZQ%3D%3D?line=13'>14</a>\u001b[0m optimiser\u001b[39m.\u001b[39mstep()\n",
      "\u001b[1;31mAttributeError\u001b[0m: module 'torch' has no attribute 'loss'"
     ]
    }
   ],
   "source": [
    "for epach in range(num_epachs):\n",
    "    for batch_idx, (data, targets) in enumerate(train_loader):\n",
    "        data=data.to(device)\n",
    "        targets=targets.to(device)\n",
    "\n",
    "        data=data.reshape(data.shape[0],-1)\n",
    "\n",
    "        scores=model(data)\n",
    "        los=criterion(scores,targets)\n",
    "\n",
    "        optimiser.zero_grad()\n",
    "        torch.loss.backward()\n",
    "\n",
    "        optimiser.step()"
   ]
  },
  {
   "cell_type": "code",
   "execution_count": null,
   "metadata": {},
   "outputs": [],
   "source": [
    "def check_accuracy()"
   ]
  }
 ],
 "metadata": {
  "kernelspec": {
   "display_name": "base",
   "language": "python",
   "name": "python3"
  },
  "language_info": {
   "codemirror_mode": {
    "name": "ipython",
    "version": 3
   },
   "file_extension": ".py",
   "mimetype": "text/x-python",
   "name": "python",
   "nbconvert_exporter": "python",
   "pygments_lexer": "ipython3",
   "version": "3.9.12"
  },
  "orig_nbformat": 4
 },
 "nbformat": 4,
 "nbformat_minor": 2
}
